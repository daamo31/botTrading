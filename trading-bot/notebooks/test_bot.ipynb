{
 "cells": [
  {
   "cell_type": "code",
   "execution_count": null,
   "metadata": {},
   "outputs": [],
   "source": [
    "import os\n",
    "import sys\n",
    "import matplotlib.pyplot as plt\n",
    "import pandas as pd\n",
    "import numpy as np\n",
    "\n",
    "# Añadir la ruta base del proyecto a sys.path\n",
    "base_path = os.path.abspath('..')\n",
    "if base_path not in sys.path:\n",
    "    sys.path.append(base_path)\n",
    "\n",
    "# Importar librerías\n",
    "try:\n",
    "    from src.bot import TradingBot\n",
    "    from src.data.data_loader import load_data\n",
    "    from src.strategies.base_strategy import MovingAverageStrategy\n",
    "    from src.utils.logger import Logger\n",
    "    print(\"Importaciones realizadas correctamente\")\n",
    "except ModuleNotFoundError as e:\n",
    "    print(f\"Error en las importaciones: {e}\")\n",
    "\n",
    "# Verificar rutas de configuración y datos de mercado\n",
    "config_path = os.path.abspath('../config.json')\n",
    "\n",
    "if not os.path.exists(config_path):\n",
    "    print(f\"El archivo de configuración no existe: {config_path}\")\n",
    "\n",
    "# Definir fechas de inicio y fin\n",
    "start_date = pd.to_datetime('2023-01-01')\n",
    "end_date = pd.to_datetime('2023-12-31')\n",
    "\n",
    "# Cargar configuración y datos de mercado\n",
    "try:\n",
    "    logger = Logger(__name__)\n",
    "    bot = TradingBot(config_path=config_path)\n",
    "    market_data = load_data(symbol=\"EURUSD\", interval='60', start_date=start_date, end_date=end_date)\n",
    "    if market_data is not None:\n",
    "        bot.data = market_data\n",
    "        #bot.run()\n",
    "\n",
    "        # Visualizar el gráfico\n",
    "        plt.figure(figsize=(12, 6))\n",
    "        plt.plot(market_data.index, market_data['close'], label='Close Price')\n",
    "        plt.title('EUR/USD Price Chart')\n",
    "        plt.xlabel('Date')\n",
    "        plt.ylabel('Price')\n",
    "        plt.legend()\n",
    "        plt.show()\n",
    "    else:\n",
    "        logger.error(\"No se pudieron cargar los datos\")\n",
    "\n",
    "except Exception as e:\n",
    "    logger.error(f\"Error al ejecutar el bot: {e}\")"
   ]
  }
 ],
 "metadata": {
  "kernelspec": {
   "display_name": "Python 3",
   "language": "python",
   "name": "python3"
  },
  "language_info": {
   "name": "python"
  }
 },
 "nbformat": 4,
 "nbformat_minor": 2
}
