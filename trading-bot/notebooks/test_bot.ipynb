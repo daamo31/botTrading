{
 "cells": [
  {
   "cell_type": "code",
   "execution_count": 5,
   "metadata": {},
   "outputs": [
    {
     "name": "stdout",
     "output_type": "stream",
     "text": [
      "Rutas actuales en sys.path: ['/Library/Frameworks/Python.framework/Versions/3.12/lib/python312.zip', '/Library/Frameworks/Python.framework/Versions/3.12/lib/python3.12', '/Library/Frameworks/Python.framework/Versions/3.12/lib/python3.12/lib-dynload', '', '/Users/daniel/Desktop/bot/.venv/lib/python3.12/site-packages', '../src', '/Users/daniel/Desktop/bot/trading-bot/src', '/Users/daniel/Desktop/bot/trading-bot']\n",
      "Importaciones realizadas correctamente\n",
      "El archivo de datos del mercado no existe: /Users/daniel/Desktop/bot/trading-bot/path/to/your/market_data.csv\n",
      "Error: El archivo /Users/daniel/Desktop/bot/trading-bot/path/to/your/market_data.csv no se encontró.\n",
      "Error al ejecutar el bot: No se pudo cargar los datos del mercado.\n"
     ]
    }
   ],
   "source": [
    "import os\n",
    "import sys\n",
    "\n",
    "# Añadir la ruta base del proyecto a sys.path\n",
    "base_path = os.path.abspath('..')\n",
    "if base_path not in sys.path:\n",
    "    sys.path.append(base_path)\n",
    "\n",
    "# Verificar las rutas en sys.path\n",
    "print(\"Rutas actuales en sys.path:\", sys.path)\n",
    "\n",
    "# Importar librerías\n",
    "try:\n",
    "    from src.bot import TradingBot\n",
    "    from src.data.data_loader import load_data\n",
    "    from src.strategies.base_strategy import MovingAverageStrategy\n",
    "    import pandas as pd\n",
    "    import numpy as np\n",
    "    print(\"Importaciones realizadas correctamente\")\n",
    "except ModuleNotFoundError as e:\n",
    "    print(f\"Error en las importaciones: {e}\")\n",
    "\n",
    "# Verificar rutas de configuración y datos de mercado\n",
    "config_path = os.path.abspath('../config.json')\n",
    "market_data_path = os.path.abspath('../path/to/your/market_data.csv')\n",
    "\n",
    "if not os.path.exists(config_path):\n",
    "    print(f\"El archivo de configuración no existe: {config_path}\")\n",
    "if not os.path.exists(market_data_path):\n",
    "    print(f\"El archivo de datos del mercado no existe: {market_data_path}\")\n",
    "\n",
    "# Cargar configuración y datos de mercado\n",
    "try:\n",
    "    bot = TradingBot(config_path=config_path)\n",
    "    bot.load_market_data(file_path=market_data_path)\n",
    "    bot.run()\n",
    "except Exception as e:\n",
    "    print(f\"Error al ejecutar el bot: {e}\")\n"
   ]
  }
 ],
 "metadata": {
  "kernelspec": {
   "display_name": ".venv",
   "language": "python",
   "name": "python3"
  },
  "language_info": {
   "codemirror_mode": {
    "name": "ipython",
    "version": 3
   },
   "file_extension": ".py",
   "mimetype": "text/x-python",
   "name": "python",
   "nbconvert_exporter": "python",
   "pygments_lexer": "ipython3",
   "version": "3.12.4"
  }
 },
 "nbformat": 4,
 "nbformat_minor": 2
}
