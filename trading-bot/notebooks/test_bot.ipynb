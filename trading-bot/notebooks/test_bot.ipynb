{
 "cells": [
  {
   "cell_type": "code",
   "execution_count": null,
   "metadata": {},
   "outputs": [],
   "source": [
    "import os\n",
    "import sys\n",
    "import matplotlib.pyplot as plt\n",
    "import pandas as pd\n",
    "import numpy as np\n",
    "\n",
    "# Añadir la ruta base del proyecto a sys.path\n",
    "base_path = os.path.abspath('..')\n",
    "if base_path not in sys.path:\n",
    "    sys.path.append(base_path)\n",
    "\n",
    "# Importar librerías\n",
    "try:\n",
    "    from src.data.data_loader import load_and_process_data\n",
    "    from src.strategies.base_strategy import MovingAverageStrategy\n",
    "    from src.utils.logger import Logger\n",
    "    print(\"Importaciones realizadas correctamente\")\n",
    "except ModuleNotFoundError as e:\n",
    "    print(f\"Error en las importaciones: {e}\")\n",
    "    raise\n",
    "\n",
    "# Verificar rutas de configuración y datos de mercado\n",
    "data_path = os.path.abspath('../src/data/data.csv')\n",
    "\n",
    "if not os.path.exists(data_path):\n",
    "    print(f\"El archivo de datos no existe: {data_path}\")\n",
    "\n",
    "# Cargar datos de mercado\n",
    "try:\n",
    "    logger = Logger(__name__)\n",
    "    market_data = load_and_process_data(data_path)\n",
    "    if market_data is not None:\n",
    "        print(\"Datos de mercado cargados correctamente.\")\n",
    "        print(market_data.head())\n",
    "\n",
    "        # Crear una instancia de la estrategia y obtener señales\n",
    "        strategy = MovingAverageStrategy(short_window=40, long_window=100)\n",
    "        signals = strategy.get_signal(market_data)\n",
    "\n",
    "        # Visualizar el gráfico\n",
    "        plt.figure(figsize=(12, 6))\n",
    "        plt.plot(signals.index, signals['close'], label='Price')\n",
    "        plt.plot(signals.index, signals['short_mavg'], label='Short Moving Average')\n",
    "        plt.plot(signals.index, signals['long_mavg'], label='Long Moving Average')\n",
    "        plt.title('EUR/USD Price Chart with Moving Averages')\n",
    "        plt.xlabel('Date')\n",
    "        plt.ylabel('Price')\n",
    "        plt.legend()\n",
    "        plt.show()\n",
    "    else:\n",
    "        logger.error(\"No se pudieron cargar los datos\")\n",
    "\n",
    "except Exception as e:\n",
    "    logger.error(f\"Error al cargar los datos del mercado: {e}\")"
   ]
  },
  {
   "cell_type": "code",
   "execution_count": null,
   "metadata": {},
   "outputs": [],
   "source": []
  }
 ],
 "metadata": {
  "kernelspec": {
   "display_name": ".venv",
   "language": "python",
   "name": "python3"
  },
  "language_info": {
   "codemirror_mode": {
    "name": "ipython",
    "version": 3
   },
   "file_extension": ".py",
   "mimetype": "text/x-python",
   "name": "python",
   "nbconvert_exporter": "python",
   "pygments_lexer": "ipython3",
   "version": "3.12.4"
  }
 },
 "nbformat": 4,
 "nbformat_minor": 2
}
