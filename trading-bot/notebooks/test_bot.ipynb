{
 "cells": [
  {
   "cell_type": "code",
   "execution_count": 1,
   "metadata": {},
   "outputs": [
    {
     "name": "stdout",
     "output_type": "stream",
     "text": [
      "Importaciones realizadas correctamente\n"
     ]
    },
    {
     "name": "stderr",
     "output_type": "stream",
     "text": [
      "2025-01-15 17:26:51,768 - __main__ - ERROR - No se pudieron cargar los datos\n"
     ]
    },
    {
     "name": "stdout",
     "output_type": "stream",
     "text": [
      "Error de Finnhub: FinnhubAPIException(status_code: 403): You don't have access to this resource.\n"
     ]
    }
   ],
   "source": [
    "import os\n",
    "import sys\n",
    "import matplotlib.pyplot as plt\n",
    "import pandas as pd\n",
    "import numpy as np\n",
    "from tradingview_ta import Interval\n",
    "\n",
    "# Añadir la ruta base del proyecto a sys.path\n",
    "base_path = os.path.abspath('..')\n",
    "if base_path not in sys.path:\n",
    "    sys.path.append(base_path)\n",
    "\n",
    "# Importar librerías\n",
    "try:\n",
    "    from src.data.data_loader import load_data\n",
    "    from src.utils.logger import Logger\n",
    "    print(\"Importaciones realizadas correctamente\")\n",
    "except ModuleNotFoundError as e:\n",
    "    print(f\"Error en las importaciones: {e}\")\n",
    "    raise\n",
    "\n",
    "# Verificar rutas de configuración y datos de mercado\n",
    "config_path = os.path.abspath('../config.json')\n",
    "\n",
    "if not os.path.exists(config_path):\n",
    "    print(f\"El archivo de configuración no existe: {config_path}\")\n",
    "\n",
    "# Definir fechas de inicio y fin\n",
    "start_date = pd.to_datetime('2025-01-01')\n",
    "end_date = pd.to_datetime('2025-01-13')\n",
    "\n",
    "# Cargar datos de mercado\n",
    "try:\n",
    "    logger = Logger(__name__)\n",
    "    market_data = load_data(symbol=\"EURUSD\", exchange=\"OANDA\", interval=Interval.INTERVAL_1_HOUR, start_date=start_date, end_date=end_date, source=\"finnhub\")\n",
    "    if market_data is not None:\n",
    "        print(\"Datos de mercado cargados correctamente.\")\n",
    "        print(market_data.head())\n",
    "\n",
    "        # Visualizar el gráfico\n",
    "        plt.figure(figsize=(12, 6))\n",
    "        plt.plot(market_data.index, market_data['close'], label='Close Price')\n",
    "        plt.title('EUR/USD Price Chart')\n",
    "        plt.xlabel('Date')\n",
    "        plt.ylabel('Price')\n",
    "        plt.legend()\n",
    "        plt.show()\n",
    "    else:\n",
    "        logger.error(\"No se pudieron cargar los datos\")\n",
    "\n",
    "except Exception as e:\n",
    "    logger.error(f\"Error al cargar los datos del mercado: {e}\")"
   ]
  }
 ],
 "metadata": {
  "kernelspec": {
   "display_name": "Python 3",
   "language": "python",
   "name": "python3"
  },
  "language_info": {
   "name": "python"
  }
 },
 "nbformat": 4,
 "nbformat_minor": 2
}
